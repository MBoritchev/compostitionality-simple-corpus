{
 "cells": [
  {
   "cell_type": "code",
   "execution_count": null,
   "id": "44597158",
   "metadata": {},
   "outputs": [],
   "source": [
    "!git clone \"https://github.com/MBoritchev/compostitionality-simple-corpus\""
   ]
  },
  {
   "cell_type": "code",
   "execution_count": null,
   "id": "ec401494",
   "metadata": {},
   "outputs": [],
   "source": [
    "%cd compostitionality-simple-corpus"
   ]
  },
  {
   "cell_type": "code",
   "execution_count": 1,
   "id": "bcff9e55",
   "metadata": {
    "colab": {
     "base_uri": "https://localhost:8080/"
    },
    "executionInfo": {
     "elapsed": 7757,
     "status": "ok",
     "timestamp": 1667468778893,
     "user": {
      "displayName": "Manuel Vargas Guzmán",
      "userId": "01699107614023000785"
     },
     "user_tz": -60
    },
    "id": "bcff9e55",
    "outputId": "dd081560-aca5-4814-b39f-af1caa6b4c33"
   },
   "outputs": [
    {
     "name": "stderr",
     "output_type": "stream",
     "text": [
      "Using TensorFlow backend.\n"
     ]
    },
    {
     "data": {
      "text/plain": [
       "{'Number of samples': 1,\n",
       " 'Number of literals': 70,\n",
       " 'Number of premises': 82,\n",
       " 'Total proofs': 4830,\n",
       " 'Valid proofs': 531,\n",
       " '0': 4299,\n",
       " '1': 82,\n",
       " '2': 75,\n",
       " '3': 63,\n",
       " '4': 60,\n",
       " '5': 51,\n",
       " '6': 54,\n",
       " '7': 41,\n",
       " '8': 42,\n",
       " '9': 35,\n",
       " '10': 28}"
      ]
     },
     "execution_count": 1,
     "metadata": {},
     "output_type": "execute_result"
    }
   ],
   "source": [
    "# import modules\n",
    "import data_generation as dg\n",
    "import data_encoding as de\n",
    "import connectionist_component as cc\n",
    "\n",
    "# load knowledge base and show summary\n",
    "kb = de.load_data('data/kb.json')\n",
    "kb['Summary']"
   ]
  },
  {
   "cell_type": "code",
   "execution_count": 2,
   "id": "eb079fd2",
   "metadata": {
    "colab": {
     "base_uri": "https://localhost:8080/"
    },
    "executionInfo": {
     "elapsed": 1316,
     "status": "ok",
     "timestamp": 1667468827441,
     "user": {
      "displayName": "Manuel Vargas Guzmán",
      "userId": "01699107614023000785"
     },
     "user_tz": -60
    },
    "id": "eb079fd2",
    "outputId": "0c0fc85b-8dde-4085-ac73-de3e7a81eb4a",
    "scrolled": false
   },
   "outputs": [
    {
     "data": {
      "text/plain": [
       "{'Number of samples': 1,\n",
       " 'Number of literals': 70,\n",
       " 'Number of premises': 82,\n",
       " 'Total proofs': 3622,\n",
       " 'Valid proofs': 398,\n",
       " '0': 3224,\n",
       " '1': 62,\n",
       " '2': 56,\n",
       " '3': 47,\n",
       " '4': 45,\n",
       " '5': 38,\n",
       " '6': 40,\n",
       " '7': 31,\n",
       " '8': 32,\n",
       " '9': 26,\n",
       " '10': 21}"
      ]
     },
     "execution_count": 2,
     "metadata": {},
     "output_type": "execute_result"
    }
   ],
   "source": [
    "# load training data and show summary\n",
    "kbtr = de.load_data('data/kb_train.json')\n",
    "kbtr['Summary']"
   ]
  },
  {
   "cell_type": "code",
   "execution_count": 3,
   "id": "N9lYn0nyj3tg",
   "metadata": {
    "id": "N9lYn0nyj3tg"
   },
   "outputs": [
    {
     "name": "stdout",
     "output_type": "stream",
     "text": [
      "(3622, 11620)\n"
     ]
    }
   ],
   "source": [
    "# FOR TRAINING A MODEL\n",
    "# encode input data and labels\n",
    "X, Y = de.as_vectors(kbtr) # for MLP\n",
    "#X, Y = de.as_vectors(kbtr, sequences=True) # for RNN\n",
    "print(X.shape)"
   ]
  },
  {
   "cell_type": "code",
   "execution_count": 4,
   "id": "gLXDByWCkOYh",
   "metadata": {
    "colab": {
     "base_uri": "https://localhost:8080/"
    },
    "executionInfo": {
     "elapsed": 2197,
     "status": "ok",
     "timestamp": 1663764736500,
     "user": {
      "displayName": "Manuel Vargas Guzmán",
      "userId": "01699107614023000785"
     },
     "user_tz": -120
    },
    "id": "gLXDByWCkOYh",
    "outputId": "fc6cb971-86d3-44c0-d93f-187804ad9a58"
   },
   "outputs": [
    {
     "name": "stderr",
     "output_type": "stream",
     "text": [
      "2022-11-22 11:24:41.295077: I tensorflow/core/platform/cpu_feature_guard.cc:145] This TensorFlow binary is optimized with Intel(R) MKL-DNN to use the following CPU instructions in performance critical operations:  SSE4.1 SSE4.2\n",
      "To enable them in non-MKL-DNN operations, rebuild TensorFlow with the appropriate compiler flags.\n",
      "2022-11-22 11:24:41.295539: I tensorflow/core/common_runtime/process_util.cc:115] Creating new thread pool with default inter op setting: 8. Tune using inter_op_parallelism_threads for best performance.\n"
     ]
    },
    {
     "name": "stdout",
     "output_type": "stream",
     "text": [
      "Train on 3259 samples, validate on 363 samples\n",
      "Epoch 1/1\n",
      "3259/3259 [==============================] - 31s 9ms/step - loss: 0.0393 - accuracy: 0.9907 - val_loss: 0.0324 - val_accuracy: 0.9939\n"
     ]
    },
    {
     "data": {
      "image/png": "[encoded data removed]",
      "text/plain": [
       "<Figure size 576x288 with 2 Axes>"
      ]
     },
     "metadata": {
      "needs_background": "light"
     },
     "output_type": "display_data"
    }
   ],
   "source": [
    "# TRAINING \n",
    "#m = cc.fit_model(X, Y, model_type = 'RNN', n_perceptrons=200, n_epochs=250, batch_size=20, split = [0.89, 0.1, 0.01], optimizer='Adamax')\n",
    "#m = cc.fit_model(X, Y, n_perceptrons=2500, h_layers=1, n_epochs=1, batch_size=20, split = [0.89, 0.1, 0.01], activation_function='tanh', optimizer='Adamax')\n",
    "m = cc.fit_model(X, Y, n_epochs=1, optimizer='Adamax')"
   ]
  },
  {
   "cell_type": "code",
   "execution_count": null,
   "id": "98cddc67",
   "metadata": {},
   "outputs": [],
   "source": [
    "# SAVE THE MODEL (optional)\n",
    "\n",
    "#m.save('my_model')"
   ]
  },
  {
   "cell_type": "code",
   "execution_count": 5,
   "id": "984f7af9",
   "metadata": {},
   "outputs": [
    {
     "name": "stdout",
     "output_type": "stream",
     "text": [
      "Number of tests performed = 1208\n",
      "Correct tested hypotheses = 88.99%\n",
      "Correct tested valid hypotheses = 0.0%\n",
      "\n",
      "Length\tTested\tCorrect\tPercentage\n",
      "----------------------------------\n",
      "0\t1075\t1075\t100.0%\n",
      "1\t20\t0\t0.0%\n",
      "2\t19\t0\t0.0%\n",
      "3\t16\t0\t0.0%\n",
      "4\t15\t0\t0.0%\n",
      "5\t13\t0\t0.0%\n",
      "6\t14\t0\t0.0%\n",
      "7\t10\t0\t0.0%\n",
      "8\t10\t0\t0.0%\n",
      "9\t9\t0\t0.0%\n",
      "10\t7\t0\t0.0%\n"
     ]
    }
   ],
   "source": [
    "# TEST CURRENT TRAINED MODEL\n",
    "\n",
    "# load test data from file\n",
    "kbte = de.load_data('data/kb_test.json') # load only test dataset (25%)\n",
    "\n",
    "# encode test data\n",
    "X_test, Y_test = de.as_vectors(kbte) # FOR MLP\n",
    "#X_test, Y_test = de.as_vectors(kbte, sequences=True) # FOR RNN\n",
    "\n",
    "# predict and show results \n",
    "#pred = m.predict(X_test)\n",
    "#res = cc.show_results(pred, Y_test)\n",
    "r = cc.show_results(m.predict(X_test), Y_test)"
   ]
  },
  {
   "cell_type": "code",
   "execution_count": null,
   "id": "b56981bc",
   "metadata": {},
   "outputs": [],
   "source": []
  }
 ],
 "metadata": {
  "accelerator": "GPU",
  "colab": {
   "collapsed_sections": [],
   "machine_shape": "hm",
   "provenance": []
  },
  "gpuClass": "standard",
  "kernelspec": {
   "display_name": "Python 3 (ipykernel)",
   "language": "python",
   "name": "python3"
  },
  "language_info": {
   "codemirror_mode": {
    "name": "ipython",
    "version": 3
   },
   "file_extension": ".py",
   "mimetype": "text/x-python",
   "name": "python",
   "nbconvert_exporter": "python",
   "pygments_lexer": "ipython3",
   "version": "3.7.13"
  }
 },
 "nbformat": 4,
 "nbformat_minor": 5
}
